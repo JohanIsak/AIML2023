{
 "cells": [
  {
   "attachments": {},
   "cell_type": "markdown",
   "metadata": {},
   "source": [
    "<h1>Tripadvisor</h1>"
   ]
  },
  {
   "attachments": {},
   "cell_type": "markdown",
   "metadata": {},
   "source": [
    "<h1>Overview</h1>\n",
    "\n",
    "<b>Pre-processing (pipeline):</b> https://www.analyticsvidhya.com/blog/2021/06/text-preprocessing-in-nlp-with-python-codes/ <br> https://www.kaggle.com/code/nilaychauhan/getting-started-with-nlp-pipelines <br>\n",
    "    - Langdetect<br>\n",
    "    - Checking missing values<br>\n",
    "    - Text Cleaning<br>\n",
    "    - Lower casing <br>\n",
    "    - Stop word removal<br>\n",
    "    - Stemming or lemmatization<br>\n",
    "    - Tokenization<br>\n",
    "    \n",
    "<b>Feature extraction:</b><br>\n",
    "    - CountVectorizer<br>\n",
    "    - Bag of Words<br>\n",
    "    \n",
    "<b>Train, test and validation split:</b> <br>\n",
    "    - Train<br>\n",
    "    - Test <br>\n",
    "    - Val<br>\n",
    "    \n",
    "<b>Models:</b><br>\n",
    "    - Sentiment analysis<br>\n",
    "    - Naive bayes<br>\n",
    "    - Logistic Regression<br>\n",
    "    \n",
    "<b>Model Tuning:</b><br>\n",
    "    - GridSearchCV<br>\n",
    "    \n",
    "<b>Models Evaluation</b><br>\n",
    "    - Classification Report: Sentiment analysis<br>\n",
    "    - Classification Report: Naive bayes<br>\n",
    "    - Classification Report: Logistic Regression<br>"
   ]
  },
  {
   "cell_type": "code",
   "execution_count": 1,
   "metadata": {},
   "outputs": [],
   "source": [
    "import pandas as pd\n",
    "\n",
    "import matplotlib.pyplot as plt # For figures and visualizations\n",
    "\n",
    "#Pre-Processing\n",
    "from langdetect import detect # Used for detecting the language with \"langdetect\"\n",
    "from nltk.corpus import stopwords # Collect libary of stopwords\n"
   ]
  },
  {
   "attachments": {},
   "cell_type": "markdown",
   "metadata": {},
   "source": [
    "# Importing the data\n",
    "\n",
    "Importing the \"Review\" and \"Offering\" data from TripAdvisor"
   ]
  },
  {
   "cell_type": "code",
   "execution_count": 2,
   "metadata": {},
   "outputs": [
    {
     "data": {
      "text/html": [
       "<div>\n",
       "<style scoped>\n",
       "    .dataframe tbody tr th:only-of-type {\n",
       "        vertical-align: middle;\n",
       "    }\n",
       "\n",
       "    .dataframe tbody tr th {\n",
       "        vertical-align: top;\n",
       "    }\n",
       "\n",
       "    .dataframe thead th {\n",
       "        text-align: right;\n",
       "    }\n",
       "</style>\n",
       "<table border=\"1\" class=\"dataframe\">\n",
       "  <thead>\n",
       "    <tr style=\"text-align: right;\">\n",
       "      <th></th>\n",
       "      <th>title</th>\n",
       "      <th>text</th>\n",
       "      <th>date_stayed</th>\n",
       "      <th>offering_id</th>\n",
       "      <th>num_helpful_votes</th>\n",
       "      <th>date</th>\n",
       "      <th>id</th>\n",
       "      <th>via_mobile</th>\n",
       "      <th>ratings.service</th>\n",
       "      <th>ratings.cleanliness</th>\n",
       "      <th>...</th>\n",
       "      <th>ratings.rooms</th>\n",
       "      <th>author.username</th>\n",
       "      <th>author.num_cities</th>\n",
       "      <th>author.num_helpful_votes</th>\n",
       "      <th>author.num_reviews</th>\n",
       "      <th>author.num_type_reviews</th>\n",
       "      <th>author.id</th>\n",
       "      <th>author.location</th>\n",
       "      <th>ratings.check_in_front_desk</th>\n",
       "      <th>ratings.business_service_(e_g_internet_access)</th>\n",
       "    </tr>\n",
       "  </thead>\n",
       "  <tbody>\n",
       "    <tr>\n",
       "      <th>0</th>\n",
       "      <td>“Truly is \"Jewel of the Upper Wets Side\"”</td>\n",
       "      <td>Stayed in a king suite for 11 nights and yes i...</td>\n",
       "      <td>December 2012</td>\n",
       "      <td>93338</td>\n",
       "      <td>0</td>\n",
       "      <td>December 17, 2012</td>\n",
       "      <td>147643103</td>\n",
       "      <td>False</td>\n",
       "      <td>5.0</td>\n",
       "      <td>5.0</td>\n",
       "      <td>...</td>\n",
       "      <td>5.0</td>\n",
       "      <td>Papa_Panda</td>\n",
       "      <td>22.0</td>\n",
       "      <td>12.0</td>\n",
       "      <td>29.0</td>\n",
       "      <td>24.0</td>\n",
       "      <td>8C0B42FF3C0FA366A21CFD785302A032</td>\n",
       "      <td>Gold Coast</td>\n",
       "      <td>NaN</td>\n",
       "      <td>NaN</td>\n",
       "    </tr>\n",
       "    <tr>\n",
       "      <th>1</th>\n",
       "      <td>“My home away from home!”</td>\n",
       "      <td>On every visit to NYC, the Hotel Beacon is the...</td>\n",
       "      <td>December 2012</td>\n",
       "      <td>93338</td>\n",
       "      <td>0</td>\n",
       "      <td>December 17, 2012</td>\n",
       "      <td>147639004</td>\n",
       "      <td>False</td>\n",
       "      <td>5.0</td>\n",
       "      <td>5.0</td>\n",
       "      <td>...</td>\n",
       "      <td>5.0</td>\n",
       "      <td>Maureen V</td>\n",
       "      <td>2.0</td>\n",
       "      <td>NaN</td>\n",
       "      <td>2.0</td>\n",
       "      <td>NaN</td>\n",
       "      <td>E3C85CA9DBBBC77E0DB534ABE93E4713</td>\n",
       "      <td>Sydney, New South Wales, Australia</td>\n",
       "      <td>NaN</td>\n",
       "      <td>NaN</td>\n",
       "    </tr>\n",
       "    <tr>\n",
       "      <th>2</th>\n",
       "      <td>“Great Stay”</td>\n",
       "      <td>This is a great property in Midtown. We two di...</td>\n",
       "      <td>December 2012</td>\n",
       "      <td>1762573</td>\n",
       "      <td>0</td>\n",
       "      <td>December 18, 2012</td>\n",
       "      <td>147697954</td>\n",
       "      <td>False</td>\n",
       "      <td>4.0</td>\n",
       "      <td>5.0</td>\n",
       "      <td>...</td>\n",
       "      <td>4.0</td>\n",
       "      <td>vuguru</td>\n",
       "      <td>12.0</td>\n",
       "      <td>17.0</td>\n",
       "      <td>14.0</td>\n",
       "      <td>14.0</td>\n",
       "      <td>FB1032DECE1162CB3556D05F278AAFFD</td>\n",
       "      <td>Houston</td>\n",
       "      <td>NaN</td>\n",
       "      <td>NaN</td>\n",
       "    </tr>\n",
       "    <tr>\n",
       "      <th>3</th>\n",
       "      <td>“Modern Convenience”</td>\n",
       "      <td>The Andaz is a nice hotel in a central locatio...</td>\n",
       "      <td>August 2012</td>\n",
       "      <td>1762573</td>\n",
       "      <td>0</td>\n",
       "      <td>December 17, 2012</td>\n",
       "      <td>147625723</td>\n",
       "      <td>False</td>\n",
       "      <td>5.0</td>\n",
       "      <td>5.0</td>\n",
       "      <td>...</td>\n",
       "      <td>5.0</td>\n",
       "      <td>Hotel-Designer</td>\n",
       "      <td>5.0</td>\n",
       "      <td>26.0</td>\n",
       "      <td>5.0</td>\n",
       "      <td>5.0</td>\n",
       "      <td>EC3E275EE7590694889C8C7EE0D13961</td>\n",
       "      <td>Laguna Beach, CA</td>\n",
       "      <td>NaN</td>\n",
       "      <td>NaN</td>\n",
       "    </tr>\n",
       "    <tr>\n",
       "      <th>4</th>\n",
       "      <td>“Its the best of the Andaz Brand in the US....”</td>\n",
       "      <td>I have stayed at each of the US Andaz properti...</td>\n",
       "      <td>December 2012</td>\n",
       "      <td>1762573</td>\n",
       "      <td>0</td>\n",
       "      <td>December 17, 2012</td>\n",
       "      <td>147612823</td>\n",
       "      <td>False</td>\n",
       "      <td>4.0</td>\n",
       "      <td>5.0</td>\n",
       "      <td>...</td>\n",
       "      <td>5.0</td>\n",
       "      <td>JamesE339</td>\n",
       "      <td>34.0</td>\n",
       "      <td>65.0</td>\n",
       "      <td>104.0</td>\n",
       "      <td>49.0</td>\n",
       "      <td>BA524A238B1171206691A6CC3F28F266</td>\n",
       "      <td>Saint Louis, Missouri</td>\n",
       "      <td>NaN</td>\n",
       "      <td>NaN</td>\n",
       "    </tr>\n",
       "  </tbody>\n",
       "</table>\n",
       "<p>5 rows × 24 columns</p>\n",
       "</div>"
      ],
      "text/plain": [
       "                                             title  \\\n",
       "0        “Truly is \"Jewel of the Upper Wets Side\"”   \n",
       "1                        “My home away from home!”   \n",
       "2                                     “Great Stay”   \n",
       "3                             “Modern Convenience”   \n",
       "4  “Its the best of the Andaz Brand in the US....”   \n",
       "\n",
       "                                                text    date_stayed  \\\n",
       "0  Stayed in a king suite for 11 nights and yes i...  December 2012   \n",
       "1  On every visit to NYC, the Hotel Beacon is the...  December 2012   \n",
       "2  This is a great property in Midtown. We two di...  December 2012   \n",
       "3  The Andaz is a nice hotel in a central locatio...    August 2012   \n",
       "4  I have stayed at each of the US Andaz properti...  December 2012   \n",
       "\n",
       "   offering_id  num_helpful_votes               date         id  via_mobile  \\\n",
       "0        93338                  0  December 17, 2012  147643103       False   \n",
       "1        93338                  0  December 17, 2012  147639004       False   \n",
       "2      1762573                  0  December 18, 2012  147697954       False   \n",
       "3      1762573                  0  December 17, 2012  147625723       False   \n",
       "4      1762573                  0  December 17, 2012  147612823       False   \n",
       "\n",
       "   ratings.service  ratings.cleanliness  ...  ratings.rooms  author.username  \\\n",
       "0              5.0                  5.0  ...            5.0       Papa_Panda   \n",
       "1              5.0                  5.0  ...            5.0        Maureen V   \n",
       "2              4.0                  5.0  ...            4.0           vuguru   \n",
       "3              5.0                  5.0  ...            5.0   Hotel-Designer   \n",
       "4              4.0                  5.0  ...            5.0        JamesE339   \n",
       "\n",
       "   author.num_cities  author.num_helpful_votes  author.num_reviews  \\\n",
       "0               22.0                      12.0                29.0   \n",
       "1                2.0                       NaN                 2.0   \n",
       "2               12.0                      17.0                14.0   \n",
       "3                5.0                      26.0                 5.0   \n",
       "4               34.0                      65.0               104.0   \n",
       "\n",
       "  author.num_type_reviews                         author.id  \\\n",
       "0                    24.0  8C0B42FF3C0FA366A21CFD785302A032   \n",
       "1                     NaN  E3C85CA9DBBBC77E0DB534ABE93E4713   \n",
       "2                    14.0  FB1032DECE1162CB3556D05F278AAFFD   \n",
       "3                     5.0  EC3E275EE7590694889C8C7EE0D13961   \n",
       "4                    49.0  BA524A238B1171206691A6CC3F28F266   \n",
       "\n",
       "                      author.location  ratings.check_in_front_desk  \\\n",
       "0                          Gold Coast                          NaN   \n",
       "1  Sydney, New South Wales, Australia                          NaN   \n",
       "2                             Houston                          NaN   \n",
       "3                    Laguna Beach, CA                          NaN   \n",
       "4               Saint Louis, Missouri                          NaN   \n",
       "\n",
       "   ratings.business_service_(e_g_internet_access)  \n",
       "0                                             NaN  \n",
       "1                                             NaN  \n",
       "2                                             NaN  \n",
       "3                                             NaN  \n",
       "4                                             NaN  \n",
       "\n",
       "[5 rows x 24 columns]"
      ]
     },
     "execution_count": 2,
     "metadata": {},
     "output_type": "execute_result"
    }
   ],
   "source": [
    "# specify the path of the CSV file\n",
    "csv_path = 'review.csv'\n",
    "\n",
    "# create a DataFrame from the CSV file\n",
    "df_review = pd.read_csv(csv_path)\n",
    "\n",
    "df_review.head(5)"
   ]
  },
  {
   "cell_type": "code",
   "execution_count": 3,
   "metadata": {},
   "outputs": [
    {
     "data": {
      "text/plain": [
       "(878561, 24)"
      ]
     },
     "execution_count": 3,
     "metadata": {},
     "output_type": "execute_result"
    }
   ],
   "source": [
    "df_review.shape"
   ]
  },
  {
   "cell_type": "code",
   "execution_count": 4,
   "metadata": {},
   "outputs": [],
   "source": [
    "# specify the path of the CSV file\n",
    "csv_path = 'offering.csv'\n",
    "\n",
    "# create a DataFrame from the CSV file\n",
    "df_offering = pd.read_csv(csv_path)"
   ]
  },
  {
   "cell_type": "code",
   "execution_count": 5,
   "metadata": {},
   "outputs": [
    {
     "data": {
      "text/plain": [
       "(4333, 12)"
      ]
     },
     "execution_count": 5,
     "metadata": {},
     "output_type": "execute_result"
    }
   ],
   "source": [
    "df_offering.shape"
   ]
  },
  {
   "attachments": {},
   "cell_type": "markdown",
   "metadata": {},
   "source": [
    "Below we inner join the two datasets in order to get the column \"address.locality\" from the offering dataset. We want to use this in order to filter or dataset based on locations."
   ]
  },
  {
   "cell_type": "code",
   "execution_count": 6,
   "metadata": {},
   "outputs": [],
   "source": [
    "df_merged = pd.merge(df_review, df_offering, left_on='offering_id', right_on='id', how='inner')"
   ]
  },
  {
   "cell_type": "code",
   "execution_count": 7,
   "metadata": {},
   "outputs": [],
   "source": [
    "# We are only interested in the columns \"text\", \"rating.overall\" and \"address.locality\"\n",
    "\n",
    "df_merged = df_merged[['text', 'ratings.overall',\"address.locality\"]]\n",
    "#df_merged = df_merged.head(200000)"
   ]
  },
  {
   "attachments": {},
   "cell_type": "markdown",
   "metadata": {},
   "source": [
    "# EDA"
   ]
  },
  {
   "cell_type": "code",
   "execution_count": 8,
   "metadata": {},
   "outputs": [
    {
     "data": {
      "text/plain": [
       "['New York City',\n",
       " 'Houston',\n",
       " 'Los Angeles',\n",
       " 'Chicago',\n",
       " 'Philadelphia',\n",
       " 'San Antonio',\n",
       " 'San Diego',\n",
       " 'Phoenix',\n",
       " 'Dallas',\n",
       " 'San Jose',\n",
       " 'Jacksonville',\n",
       " 'Austin',\n",
       " 'San Francisco',\n",
       " 'Indianapolis',\n",
       " 'Charlotte',\n",
       " 'Detroit',\n",
       " 'Columbus',\n",
       " 'Fort Worth',\n",
       " 'El Paso',\n",
       " 'Memphis',\n",
       " 'Seattle',\n",
       " 'Boston',\n",
       " 'Baltimore',\n",
       " 'Denver']"
      ]
     },
     "execution_count": 8,
     "metadata": {},
     "output_type": "execute_result"
    }
   ],
   "source": [
    "#Make a list of all the cities unless \"Washington DC\"\n",
    "distinct_cities = df_merged[df_merged['address.locality'] != 'Washington DC']['address.locality'].drop_duplicates()\n",
    "distinct_cities = distinct_cities.to_list()\n",
    "distinct_cities"
   ]
  },
  {
   "cell_type": "code",
   "execution_count": 9,
   "metadata": {},
   "outputs": [
    {
     "name": "stdout",
     "output_type": "stream",
     "text": [
      "<class 'pandas.core.frame.DataFrame'>\n",
      "Int64Index: 878561 entries, 0 to 878560\n",
      "Data columns (total 3 columns):\n",
      " #   Column            Non-Null Count   Dtype  \n",
      "---  ------            --------------   -----  \n",
      " 0   text              878561 non-null  object \n",
      " 1   ratings.overall   878561 non-null  float64\n",
      " 2   address.locality  878561 non-null  object \n",
      "dtypes: float64(1), object(2)\n",
      "memory usage: 26.8+ MB\n"
     ]
    }
   ],
   "source": [
    "df_merged.info()"
   ]
  },
  {
   "cell_type": "code",
   "execution_count": 10,
   "metadata": {},
   "outputs": [
    {
     "data": {
      "text/html": [
       "<div>\n",
       "<style scoped>\n",
       "    .dataframe tbody tr th:only-of-type {\n",
       "        vertical-align: middle;\n",
       "    }\n",
       "\n",
       "    .dataframe tbody tr th {\n",
       "        vertical-align: top;\n",
       "    }\n",
       "\n",
       "    .dataframe thead th {\n",
       "        text-align: right;\n",
       "    }\n",
       "</style>\n",
       "<table border=\"1\" class=\"dataframe\">\n",
       "  <thead>\n",
       "    <tr style=\"text-align: right;\">\n",
       "      <th></th>\n",
       "      <th>ratings.overall</th>\n",
       "    </tr>\n",
       "  </thead>\n",
       "  <tbody>\n",
       "    <tr>\n",
       "      <th>count</th>\n",
       "      <td>878561.000000</td>\n",
       "    </tr>\n",
       "    <tr>\n",
       "      <th>mean</th>\n",
       "      <td>3.936228</td>\n",
       "    </tr>\n",
       "    <tr>\n",
       "      <th>std</th>\n",
       "      <td>1.165074</td>\n",
       "    </tr>\n",
       "    <tr>\n",
       "      <th>min</th>\n",
       "      <td>0.000000</td>\n",
       "    </tr>\n",
       "    <tr>\n",
       "      <th>25%</th>\n",
       "      <td>3.000000</td>\n",
       "    </tr>\n",
       "    <tr>\n",
       "      <th>50%</th>\n",
       "      <td>4.000000</td>\n",
       "    </tr>\n",
       "    <tr>\n",
       "      <th>75%</th>\n",
       "      <td>5.000000</td>\n",
       "    </tr>\n",
       "    <tr>\n",
       "      <th>max</th>\n",
       "      <td>5.000000</td>\n",
       "    </tr>\n",
       "  </tbody>\n",
       "</table>\n",
       "</div>"
      ],
      "text/plain": [
       "       ratings.overall\n",
       "count    878561.000000\n",
       "mean          3.936228\n",
       "std           1.165074\n",
       "min           0.000000\n",
       "25%           3.000000\n",
       "50%           4.000000\n",
       "75%           5.000000\n",
       "max           5.000000"
      ]
     },
     "execution_count": 10,
     "metadata": {},
     "output_type": "execute_result"
    }
   ],
   "source": [
    "df_merged.describe()"
   ]
  },
  {
   "cell_type": "code",
   "execution_count": 11,
   "metadata": {},
   "outputs": [
    {
     "data": {
      "text/plain": [
       "<Axes: title={'center': 'Count Reviews by Rating'}>"
      ]
     },
     "execution_count": 11,
     "metadata": {},
     "output_type": "execute_result"
    },
    {
     "data": {
      "image/png": "[encoded data removed]",
      "text/plain": [
       "<Figure size 500x500 with 1 Axes>"
      ]
     },
     "metadata": {},
     "output_type": "display_data"
    }
   ],
   "source": [
    "#Counting the ratings and plot\n",
    "df_merged[\"ratings.overall\"].value_counts().sort_index().plot(kind=\"bar\",title=\"Count Reviews by Rating\", figsize=(5,5))"
   ]
  },
  {
   "cell_type": "code",
   "execution_count": 12,
   "metadata": {},
   "outputs": [
    {
     "name": "stdout",
     "output_type": "stream",
     "text": [
      "Minimum length: 4\n",
      "Maximum length: 22387\n",
      "Average length: 801.952391467411\n"
     ]
    }
   ],
   "source": [
    "# calculate the length of each string in the Review column\n",
    "review_lengths = df_merged['text'].apply(len)\n",
    "\n",
    "# print the minimum, maximum, and average length of the column Review\n",
    "print('Minimum length:', review_lengths.min())\n",
    "print('Maximum length:', review_lengths.max())\n",
    "print('Average length:', review_lengths.mean())"
   ]
  },
  {
   "attachments": {},
   "cell_type": "markdown",
   "metadata": {},
   "source": [
    "# Preprocess"
   ]
  },
  {
   "cell_type": "code",
   "execution_count": 13,
   "metadata": {},
   "outputs": [
    {
     "data": {
      "text/html": [
       "<div>\n",
       "<style scoped>\n",
       "    .dataframe tbody tr th:only-of-type {\n",
       "        vertical-align: middle;\n",
       "    }\n",
       "\n",
       "    .dataframe tbody tr th {\n",
       "        vertical-align: top;\n",
       "    }\n",
       "\n",
       "    .dataframe thead th {\n",
       "        text-align: right;\n",
       "    }\n",
       "</style>\n",
       "<table border=\"1\" class=\"dataframe\">\n",
       "  <thead>\n",
       "    <tr style=\"text-align: right;\">\n",
       "      <th></th>\n",
       "      <th>text</th>\n",
       "      <th>ratings.overall</th>\n",
       "    </tr>\n",
       "  </thead>\n",
       "  <tbody>\n",
       "    <tr>\n",
       "      <th>0</th>\n",
       "      <td>Stayed in a king suite for 11 nights and yes i...</td>\n",
       "      <td>5.0</td>\n",
       "    </tr>\n",
       "    <tr>\n",
       "      <th>1</th>\n",
       "      <td>On every visit to NYC, the Hotel Beacon is the...</td>\n",
       "      <td>5.0</td>\n",
       "    </tr>\n",
       "    <tr>\n",
       "      <th>2</th>\n",
       "      <td>Loved the hotel. Great location - only 2 block...</td>\n",
       "      <td>5.0</td>\n",
       "    </tr>\n",
       "    <tr>\n",
       "      <th>3</th>\n",
       "      <td>Our first stay on the upper west side and can'...</td>\n",
       "      <td>5.0</td>\n",
       "    </tr>\n",
       "    <tr>\n",
       "      <th>4</th>\n",
       "      <td>Great room, very big with huge bed! Great loca...</td>\n",
       "      <td>5.0</td>\n",
       "    </tr>\n",
       "    <tr>\n",
       "      <th>...</th>\n",
       "      <td>...</td>\n",
       "      <td>...</td>\n",
       "    </tr>\n",
       "    <tr>\n",
       "      <th>830219</th>\n",
       "      <td>Super high quality product, great layout in gu...</td>\n",
       "      <td>5.0</td>\n",
       "    </tr>\n",
       "    <tr>\n",
       "      <th>830220</th>\n",
       "      <td>This is an amazing hotel. Very much catering f...</td>\n",
       "      <td>5.0</td>\n",
       "    </tr>\n",
       "    <tr>\n",
       "      <th>830221</th>\n",
       "      <td>This is a fantastic hotel that feels brand new...</td>\n",
       "      <td>5.0</td>\n",
       "    </tr>\n",
       "    <tr>\n",
       "      <th>830222</th>\n",
       "      <td>Our stay at the downtown Denver Embassy Suites...</td>\n",
       "      <td>4.0</td>\n",
       "    </tr>\n",
       "    <tr>\n",
       "      <th>830223</th>\n",
       "      <td>I have to say that this is the best hotel I've...</td>\n",
       "      <td>5.0</td>\n",
       "    </tr>\n",
       "  </tbody>\n",
       "</table>\n",
       "<p>830224 rows × 2 columns</p>\n",
       "</div>"
      ],
      "text/plain": [
       "                                                     text  ratings.overall\n",
       "0       Stayed in a king suite for 11 nights and yes i...              5.0\n",
       "1       On every visit to NYC, the Hotel Beacon is the...              5.0\n",
       "2       Loved the hotel. Great location - only 2 block...              5.0\n",
       "3       Our first stay on the upper west side and can'...              5.0\n",
       "4       Great room, very big with huge bed! Great loca...              5.0\n",
       "...                                                   ...              ...\n",
       "830219  Super high quality product, great layout in gu...              5.0\n",
       "830220  This is an amazing hotel. Very much catering f...              5.0\n",
       "830221  This is a fantastic hotel that feels brand new...              5.0\n",
       "830222  Our stay at the downtown Denver Embassy Suites...              4.0\n",
       "830223  I have to say that this is the best hotel I've...              5.0\n",
       "\n",
       "[830224 rows x 2 columns]"
      ]
     },
     "execution_count": 13,
     "metadata": {},
     "output_type": "execute_result"
    }
   ],
   "source": [
    "#Choose only reviews from New York City\n",
    "df_NYC = df_merged[df_merged['address.locality'].isin(distinct_cities)]\n",
    "df_NYC = df_NYC[['text', 'ratings.overall']]\n",
    "df_NYC"
   ]
  },
  {
   "cell_type": "code",
   "execution_count": 14,
   "metadata": {},
   "outputs": [
    {
     "data": {
      "text/plain": [
       "(28019, 2)"
      ]
     },
     "execution_count": 14,
     "metadata": {},
     "output_type": "execute_result"
    }
   ],
   "source": [
    "df_NYC = df_NYC[df_NYC['text'].str.len() < 150] #select only rows where length of column \"text\" is less than 100\n",
    "\n",
    "df_NYC = df_NYC[['text', 'ratings.overall']]\n",
    "\n",
    "df_NYC.shape"
   ]
  },
  {
   "cell_type": "code",
   "execution_count": 15,
   "metadata": {},
   "outputs": [
    {
     "data": {
      "text/html": [
       "<div>\n",
       "<style scoped>\n",
       "    .dataframe tbody tr th:only-of-type {\n",
       "        vertical-align: middle;\n",
       "    }\n",
       "\n",
       "    .dataframe tbody tr th {\n",
       "        vertical-align: top;\n",
       "    }\n",
       "\n",
       "    .dataframe thead th {\n",
       "        text-align: right;\n",
       "    }\n",
       "</style>\n",
       "<table border=\"1\" class=\"dataframe\">\n",
       "  <thead>\n",
       "    <tr style=\"text-align: right;\">\n",
       "      <th></th>\n",
       "      <th>text</th>\n",
       "      <th>ratings.overall</th>\n",
       "    </tr>\n",
       "  </thead>\n",
       "  <tbody>\n",
       "    <tr>\n",
       "      <th>174</th>\n",
       "      <td>Rooms are fine. Service tries hard but does no...</td>\n",
       "      <td>3.0</td>\n",
       "    </tr>\n",
       "    <tr>\n",
       "      <th>193</th>\n",
       "      <td>best place to stay in nyc. Want to go back mis...</td>\n",
       "      <td>5.0</td>\n",
       "    </tr>\n",
       "    <tr>\n",
       "      <th>253</th>\n",
       "      <td>Pleasant. Very pleasant. Clean room, nice bath...</td>\n",
       "      <td>4.0</td>\n",
       "    </tr>\n",
       "    <tr>\n",
       "      <th>307</th>\n",
       "      <td>Good family hotel in a good neighborhood. Hote...</td>\n",
       "      <td>3.0</td>\n",
       "    </tr>\n",
       "    <tr>\n",
       "      <th>334</th>\n",
       "      <td>We had a beautiful deluxe room with amazing vi...</td>\n",
       "      <td>5.0</td>\n",
       "    </tr>\n",
       "    <tr>\n",
       "      <th>...</th>\n",
       "      <td>...</td>\n",
       "      <td>...</td>\n",
       "    </tr>\n",
       "    <tr>\n",
       "      <th>830134</th>\n",
       "      <td>Close to the Capitol and to the Museum of Art....</td>\n",
       "      <td>5.0</td>\n",
       "    </tr>\n",
       "    <tr>\n",
       "      <th>830187</th>\n",
       "      <td>Overall friendly feel. Employees want to be th...</td>\n",
       "      <td>5.0</td>\n",
       "    </tr>\n",
       "    <tr>\n",
       "      <th>830202</th>\n",
       "      <td>Clean and quiet rooms, WiFi was easy to setup....</td>\n",
       "      <td>5.0</td>\n",
       "    </tr>\n",
       "    <tr>\n",
       "      <th>830204</th>\n",
       "      <td>Great new embassy suites. Service staff excell...</td>\n",
       "      <td>5.0</td>\n",
       "    </tr>\n",
       "    <tr>\n",
       "      <th>830212</th>\n",
       "      <td>One of the most luxurious hotels we have exper...</td>\n",
       "      <td>5.0</td>\n",
       "    </tr>\n",
       "  </tbody>\n",
       "</table>\n",
       "<p>23481 rows × 2 columns</p>\n",
       "</div>"
      ],
      "text/plain": [
       "                                                     text  ratings.overall\n",
       "174     Rooms are fine. Service tries hard but does no...              3.0\n",
       "193     best place to stay in nyc. Want to go back mis...              5.0\n",
       "253     Pleasant. Very pleasant. Clean room, nice bath...              4.0\n",
       "307     Good family hotel in a good neighborhood. Hote...              3.0\n",
       "334     We had a beautiful deluxe room with amazing vi...              5.0\n",
       "...                                                   ...              ...\n",
       "830134  Close to the Capitol and to the Museum of Art....              5.0\n",
       "830187  Overall friendly feel. Employees want to be th...              5.0\n",
       "830202  Clean and quiet rooms, WiFi was easy to setup....              5.0\n",
       "830204  Great new embassy suites. Service staff excell...              5.0\n",
       "830212  One of the most luxurious hotels we have exper...              5.0\n",
       "\n",
       "[23481 rows x 2 columns]"
      ]
     },
     "execution_count": 15,
     "metadata": {},
     "output_type": "execute_result"
    }
   ],
   "source": [
    "# Define a function to detect language\n",
    "def detect_lang(text):\n",
    "    try:\n",
    "        return detect(text)\n",
    "    except:\n",
    "        return None\n",
    "\n",
    "# Apply the function to create a new column with the language code for each review\n",
    "df_NYC['language'] = df_NYC['text'].apply(detect_lang)\n",
    "\n",
    "# Filter the DataFrame to only include rows with English text\n",
    "df_NYC = df_NYC[df_NYC['language'] == 'en']\n",
    "df_NYC = df_NYC[[\"text\",\"ratings.overall\"]]\n",
    "df_NYC"
   ]
  },
  {
   "cell_type": "code",
   "execution_count": 16,
   "metadata": {},
   "outputs": [],
   "source": [
    "# lowercase the text\n",
    "df_NYC['text'] = df_NYC['text'].str.lower()"
   ]
  },
  {
   "cell_type": "code",
   "execution_count": 17,
   "metadata": {},
   "outputs": [
    {
     "data": {
      "text/html": [
       "<div>\n",
       "<style scoped>\n",
       "    .dataframe tbody tr th:only-of-type {\n",
       "        vertical-align: middle;\n",
       "    }\n",
       "\n",
       "    .dataframe tbody tr th {\n",
       "        vertical-align: top;\n",
       "    }\n",
       "\n",
       "    .dataframe thead th {\n",
       "        text-align: right;\n",
       "    }\n",
       "</style>\n",
       "<table border=\"1\" class=\"dataframe\">\n",
       "  <thead>\n",
       "    <tr style=\"text-align: right;\">\n",
       "      <th></th>\n",
       "      <th>text</th>\n",
       "      <th>ratings.overall</th>\n",
       "    </tr>\n",
       "  </thead>\n",
       "  <tbody>\n",
       "    <tr>\n",
       "      <th>174</th>\n",
       "      <td>rooms are fine service tries hard but does not...</td>\n",
       "      <td>3.0</td>\n",
       "    </tr>\n",
       "    <tr>\n",
       "      <th>193</th>\n",
       "      <td>best place to stay in nyc want to go back miss...</td>\n",
       "      <td>5.0</td>\n",
       "    </tr>\n",
       "    <tr>\n",
       "      <th>253</th>\n",
       "      <td>pleasant very pleasant clean room nice bathroo...</td>\n",
       "      <td>4.0</td>\n",
       "    </tr>\n",
       "    <tr>\n",
       "      <th>307</th>\n",
       "      <td>good family hotel in a good neighborhood hotel...</td>\n",
       "      <td>3.0</td>\n",
       "    </tr>\n",
       "    <tr>\n",
       "      <th>334</th>\n",
       "      <td>we had a beautiful deluxe room with amazing vi...</td>\n",
       "      <td>5.0</td>\n",
       "    </tr>\n",
       "    <tr>\n",
       "      <th>...</th>\n",
       "      <td>...</td>\n",
       "      <td>...</td>\n",
       "    </tr>\n",
       "    <tr>\n",
       "      <th>830134</th>\n",
       "      <td>close to the capitol and to the museum of art ...</td>\n",
       "      <td>5.0</td>\n",
       "    </tr>\n",
       "    <tr>\n",
       "      <th>830187</th>\n",
       "      <td>overall friendly feel employees want to be the...</td>\n",
       "      <td>5.0</td>\n",
       "    </tr>\n",
       "    <tr>\n",
       "      <th>830202</th>\n",
       "      <td>clean and quiet rooms wifi was easy to setup b...</td>\n",
       "      <td>5.0</td>\n",
       "    </tr>\n",
       "    <tr>\n",
       "      <th>830204</th>\n",
       "      <td>great new embassy suites service staff excelle...</td>\n",
       "      <td>5.0</td>\n",
       "    </tr>\n",
       "    <tr>\n",
       "      <th>830212</th>\n",
       "      <td>one of the most luxurious hotels we have exper...</td>\n",
       "      <td>5.0</td>\n",
       "    </tr>\n",
       "  </tbody>\n",
       "</table>\n",
       "<p>23481 rows × 2 columns</p>\n",
       "</div>"
      ],
      "text/plain": [
       "                                                     text  ratings.overall\n",
       "174     rooms are fine service tries hard but does not...              3.0\n",
       "193     best place to stay in nyc want to go back miss...              5.0\n",
       "253     pleasant very pleasant clean room nice bathroo...              4.0\n",
       "307     good family hotel in a good neighborhood hotel...              3.0\n",
       "334     we had a beautiful deluxe room with amazing vi...              5.0\n",
       "...                                                   ...              ...\n",
       "830134  close to the capitol and to the museum of art ...              5.0\n",
       "830187  overall friendly feel employees want to be the...              5.0\n",
       "830202  clean and quiet rooms wifi was easy to setup b...              5.0\n",
       "830204  great new embassy suites service staff excelle...              5.0\n",
       "830212  one of the most luxurious hotels we have exper...              5.0\n",
       "\n",
       "[23481 rows x 2 columns]"
      ]
     },
     "execution_count": 17,
     "metadata": {},
     "output_type": "execute_result"
    }
   ],
   "source": [
    "#library that contains punctuation https://www.analyticsvidhya.com/blog/2021/06/text-preprocessing-in-nlp-with-python-codes/\n",
    "import string \n",
    "string.punctuation\n",
    "#defining the function to remove punctuation\n",
    "def remove_punctuation(text):\n",
    "    punctuationfree=\"\".join([i for i in text if i not in string.punctuation])\n",
    "    return punctuationfree\n",
    "#storing the puntuation free text\n",
    "df_NYC['clean_text']= df_NYC['text'].apply(lambda x:remove_punctuation(x))\n",
    "\n",
    "df_NYC[\"text\"] = df_NYC[\"clean_text\"]\n",
    "df_NYC = df_NYC[[\"text\",\"ratings.overall\"]]\n",
    "df_NYC"
   ]
  },
  {
   "cell_type": "code",
   "execution_count": 18,
   "metadata": {},
   "outputs": [],
   "source": [
    "#Save a CSV file of the text before pre-processing\n",
    "df_NYC.to_csv(\"data_preprocessed.csv\", index=False)"
   ]
  },
  {
   "cell_type": "code",
   "execution_count": 19,
   "metadata": {},
   "outputs": [
    {
     "data": {
      "text/html": [
       "<div>\n",
       "<style scoped>\n",
       "    .dataframe tbody tr th:only-of-type {\n",
       "        vertical-align: middle;\n",
       "    }\n",
       "\n",
       "    .dataframe tbody tr th {\n",
       "        vertical-align: top;\n",
       "    }\n",
       "\n",
       "    .dataframe thead th {\n",
       "        text-align: right;\n",
       "    }\n",
       "</style>\n",
       "<table border=\"1\" class=\"dataframe\">\n",
       "  <thead>\n",
       "    <tr style=\"text-align: right;\">\n",
       "      <th></th>\n",
       "      <th>text</th>\n",
       "      <th>ratings.overall</th>\n",
       "    </tr>\n",
       "  </thead>\n",
       "  <tbody>\n",
       "    <tr>\n",
       "      <th>174</th>\n",
       "      <td>rooms are fine service tries hard but does not...</td>\n",
       "      <td>3.0</td>\n",
       "    </tr>\n",
       "    <tr>\n",
       "      <th>193</th>\n",
       "      <td>best place to stay in nyc want to go back miss...</td>\n",
       "      <td>5.0</td>\n",
       "    </tr>\n",
       "    <tr>\n",
       "      <th>253</th>\n",
       "      <td>pleasant very pleasant clean room nice bathroo...</td>\n",
       "      <td>4.0</td>\n",
       "    </tr>\n",
       "    <tr>\n",
       "      <th>307</th>\n",
       "      <td>good family hotel in a good neighborhood hotel...</td>\n",
       "      <td>3.0</td>\n",
       "    </tr>\n",
       "    <tr>\n",
       "      <th>334</th>\n",
       "      <td>we had a beautiful deluxe room with amazing vi...</td>\n",
       "      <td>5.0</td>\n",
       "    </tr>\n",
       "  </tbody>\n",
       "</table>\n",
       "</div>"
      ],
      "text/plain": [
       "                                                  text  ratings.overall\n",
       "174  rooms are fine service tries hard but does not...              3.0\n",
       "193  best place to stay in nyc want to go back miss...              5.0\n",
       "253  pleasant very pleasant clean room nice bathroo...              4.0\n",
       "307  good family hotel in a good neighborhood hotel...              3.0\n",
       "334  we had a beautiful deluxe room with amazing vi...              5.0"
      ]
     },
     "execution_count": 19,
     "metadata": {},
     "output_type": "execute_result"
    }
   ],
   "source": [
    "df_NYC.head()"
   ]
  },
  {
   "attachments": {},
   "cell_type": "markdown",
   "metadata": {},
   "source": [
    "# Save tokenized dataset"
   ]
  },
  {
   "cell_type": "code",
   "execution_count": 20,
   "metadata": {},
   "outputs": [],
   "source": [
    "#Using the Spacy Libary for word tokenization - we could also look at sentence tokenization\n",
    "#https://www.analyticsvidhya.com/blog/2019/07/how-get-started-nlp-6-unique-ways-perform-tokenization/?utm_source=reading_list&utm_medium=https://www.analyticsvidhya.com/blog/2021/06/text-preprocessing-in-nlp-with-python-codes/\n",
    "from spacy.lang.en import English\n",
    "# Load English tokenizer, tagger, parser, NER and word vectors\n",
    "nlp = English()\n",
    "# Create an empty list to store the tokenized text\n",
    "tokenized_text = []\n",
    "# Iterate over each row of the \"clean_text\" column\n",
    "for row in df_NYC[\"text\"]:\n",
    "    # Apply Spacy's English tokenizer to the text\n",
    "    my_doc = nlp(row)\n",
    "\n",
    "    # Create list of word tokens for the current row\n",
    "    token_list = [token.text for token in my_doc]\n",
    "\n",
    "    # Add the list of tokens for the current row to the tokenized_text list\n",
    "    tokenized_text.append(token_list)\n",
    "\n",
    "# Add the tokenized_text list as a new column to the DataFrame\n",
    "df_NYC[\"tokenized_text\"] = tokenized_text"
   ]
  },
  {
   "cell_type": "code",
   "execution_count": 21,
   "metadata": {},
   "outputs": [],
   "source": [
    "#importing nlp library\n",
    "import nltk\n",
    "#Stop words present in the library\n",
    "stopwords = nltk.corpus.stopwords.words('english')\n",
    "stopwords[0:10]\n",
    "['i', 'me', 'my', 'myself', 'we', 'our', 'ours', 'ourselves', 'you', \"you're\"]\n",
    "#defining the function to remove stopwords from tokenized text\n",
    "def remove_stopwords(text):\n",
    "    output= [i for i in text if i not in stopwords]\n",
    "    return output\n",
    "#applying the function\n",
    "df_NYC['tokenized_text']= df_NYC['tokenized_text'].apply(lambda x:remove_stopwords(x))"
   ]
  },
  {
   "cell_type": "code",
   "execution_count": 22,
   "metadata": {},
   "outputs": [
    {
     "name": "stderr",
     "output_type": "stream",
     "text": [
      "[nltk_data] Downloading package wordnet to\n",
      "[nltk_data]     /Users/kristofferkristensen/nltk_data...\n",
      "[nltk_data]   Package wordnet is already up-to-date!\n"
     ]
    },
    {
     "data": {
      "text/plain": [
       "True"
      ]
     },
     "execution_count": 22,
     "metadata": {},
     "output_type": "execute_result"
    }
   ],
   "source": [
    "import nltk\n",
    "nltk.download('wordnet')"
   ]
  },
  {
   "cell_type": "code",
   "execution_count": 23,
   "metadata": {},
   "outputs": [],
   "source": [
    "from nltk.stem import WordNetLemmatizer\n",
    "#defining the object for Lemmatization\n",
    "wordnet_lemmatizer = WordNetLemmatizer()\n",
    "#defining the function for lemmatization\n",
    "def lemmatizer(text):\n",
    "    lemm_text = [wordnet_lemmatizer.lemmatize(word) for word in text]\n",
    "    return lemm_text\n",
    "df_NYC['msg_lemmatized']=df_NYC['tokenized_text'].apply(lambda x:lemmatizer(x))"
   ]
  },
  {
   "cell_type": "code",
   "execution_count": 24,
   "metadata": {},
   "outputs": [],
   "source": [
    "df_NYC[\"text\"] = df_NYC[\"msg_lemmatized\"]\n",
    "df_NYC = df_NYC[[\"text\",\"ratings.overall\"]]"
   ]
  },
  {
   "cell_type": "code",
   "execution_count": 25,
   "metadata": {},
   "outputs": [
    {
     "data": {
      "text/html": [
       "<div>\n",
       "<style scoped>\n",
       "    .dataframe tbody tr th:only-of-type {\n",
       "        vertical-align: middle;\n",
       "    }\n",
       "\n",
       "    .dataframe tbody tr th {\n",
       "        vertical-align: top;\n",
       "    }\n",
       "\n",
       "    .dataframe thead th {\n",
       "        text-align: right;\n",
       "    }\n",
       "</style>\n",
       "<table border=\"1\" class=\"dataframe\">\n",
       "  <thead>\n",
       "    <tr style=\"text-align: right;\">\n",
       "      <th></th>\n",
       "      <th>text</th>\n",
       "      <th>ratings.overall</th>\n",
       "    </tr>\n",
       "  </thead>\n",
       "  <tbody>\n",
       "    <tr>\n",
       "      <th>174</th>\n",
       "      <td>[room, fine, service, try, hard, always, succe...</td>\n",
       "      <td>3.0</td>\n",
       "    </tr>\n",
       "    <tr>\n",
       "      <th>193</th>\n",
       "      <td>[best, place, stay, nyc, want, go, back, miss,...</td>\n",
       "      <td>5.0</td>\n",
       "    </tr>\n",
       "    <tr>\n",
       "      <th>253</th>\n",
       "      <td>[pleasant, pleasant, clean, room, nice, bathro...</td>\n",
       "      <td>4.0</td>\n",
       "    </tr>\n",
       "    <tr>\n",
       "      <th>307</th>\n",
       "      <td>[good, family, hotel, good, neighborhood, hote...</td>\n",
       "      <td>3.0</td>\n",
       "    </tr>\n",
       "    <tr>\n",
       "      <th>334</th>\n",
       "      <td>[beautiful, deluxe, room, amazing, view,  , sp...</td>\n",
       "      <td>5.0</td>\n",
       "    </tr>\n",
       "    <tr>\n",
       "      <th>...</th>\n",
       "      <td>...</td>\n",
       "      <td>...</td>\n",
       "    </tr>\n",
       "    <tr>\n",
       "      <th>830134</th>\n",
       "      <td>[close, capitol, museum, art, downtown, walkin...</td>\n",
       "      <td>5.0</td>\n",
       "    </tr>\n",
       "    <tr>\n",
       "      <th>830187</th>\n",
       "      <td>[overall, friendly, feel, employee, want, best...</td>\n",
       "      <td>5.0</td>\n",
       "    </tr>\n",
       "    <tr>\n",
       "      <th>830202</th>\n",
       "      <td>[clean, quiet, room, wifi, easy, setup, breakf...</td>\n",
       "      <td>5.0</td>\n",
       "    </tr>\n",
       "    <tr>\n",
       "      <th>830204</th>\n",
       "      <td>[great, new, embassy, suite, service, staff, e...</td>\n",
       "      <td>5.0</td>\n",
       "    </tr>\n",
       "    <tr>\n",
       "      <th>830212</th>\n",
       "      <td>[one, luxurious, hotel, experienced, beat, hil...</td>\n",
       "      <td>5.0</td>\n",
       "    </tr>\n",
       "  </tbody>\n",
       "</table>\n",
       "<p>23481 rows × 2 columns</p>\n",
       "</div>"
      ],
      "text/plain": [
       "                                                     text  ratings.overall\n",
       "174     [room, fine, service, try, hard, always, succe...              3.0\n",
       "193     [best, place, stay, nyc, want, go, back, miss,...              5.0\n",
       "253     [pleasant, pleasant, clean, room, nice, bathro...              4.0\n",
       "307     [good, family, hotel, good, neighborhood, hote...              3.0\n",
       "334     [beautiful, deluxe, room, amazing, view,  , sp...              5.0\n",
       "...                                                   ...              ...\n",
       "830134  [close, capitol, museum, art, downtown, walkin...              5.0\n",
       "830187  [overall, friendly, feel, employee, want, best...              5.0\n",
       "830202  [clean, quiet, room, wifi, easy, setup, breakf...              5.0\n",
       "830204  [great, new, embassy, suite, service, staff, e...              5.0\n",
       "830212  [one, luxurious, hotel, experienced, beat, hil...              5.0\n",
       "\n",
       "[23481 rows x 2 columns]"
      ]
     },
     "execution_count": 25,
     "metadata": {},
     "output_type": "execute_result"
    }
   ],
   "source": [
    "df_NYC"
   ]
  },
  {
   "cell_type": "code",
   "execution_count": 26,
   "metadata": {},
   "outputs": [],
   "source": [
    "#Save a CSV file of the text with tokenization\n",
    "df_NYC.to_csv(\"data_tokenized.csv\", index=False)"
   ]
  },
  {
   "attachments": {},
   "cell_type": "markdown",
   "metadata": {},
   "source": [
    "# Balanced dataset"
   ]
  },
  {
   "cell_type": "code",
   "execution_count": 27,
   "metadata": {},
   "outputs": [],
   "source": [
    "# Get the minimum count of the value_counts for each rating\n",
    "min_count = df_NYC[\"ratings.overall\"].value_counts().min()\n",
    "\n",
    "# Create a new DataFrame with an equal number of rows for each rating\n",
    "new_df = pd.concat([df_NYC[df_NYC[\"ratings.overall\"] == rating].sample(n=min_count) for rating in range(1, 6)])\n",
    "\n",
    "# Print the value counts for each rating in the new DataFrame\n",
    "new_df.to_csv(\"data_preprocessed_balanced.csv\", index=False)"
   ]
  },
  {
   "cell_type": "code",
   "execution_count": 28,
   "metadata": {},
   "outputs": [
    {
     "data": {
      "text/plain": [
       "(3420, 2)"
      ]
     },
     "execution_count": 28,
     "metadata": {},
     "output_type": "execute_result"
    }
   ],
   "source": [
    "new_df.shape"
   ]
  },
  {
   "cell_type": "code",
   "execution_count": 29,
   "metadata": {},
   "outputs": [
    {
     "name": "stdout",
     "output_type": "stream",
     "text": [
      "showing info https://raw.githubusercontent.com/nltk/nltk_data/gh-pages/index.xml\n"
     ]
    },
    {
     "data": {
      "text/plain": [
       "True"
      ]
     },
     "execution_count": 29,
     "metadata": {},
     "output_type": "execute_result"
    }
   ],
   "source": [
    "import nltk\n",
    "nltk.download()"
   ]
  },
  {
   "cell_type": "code",
   "execution_count": null,
   "metadata": {},
   "outputs": [],
   "source": []
  }
 ],
 "metadata": {
  "kernelspec": {
   "display_name": "base",
   "language": "python",
   "name": "python3"
  },
  "language_info": {
   "codemirror_mode": {
    "name": "ipython",
    "version": 3
   },
   "file_extension": ".py",
   "mimetype": "text/x-python",
   "name": "python",
   "nbconvert_exporter": "python",
   "pygments_lexer": "ipython3",
   "version": "3.9.13"
  },
  "orig_nbformat": 4
 },
 "nbformat": 4,
 "nbformat_minor": 2
}
