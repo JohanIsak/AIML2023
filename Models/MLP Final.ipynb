{
 "cells": [
  {
   "cell_type": "code",
   "execution_count": 46,
   "metadata": {},
   "outputs": [],
   "source": [
    "#Import Dependencies\n",
    "import pandas as pd\n",
    "from sklearn.feature_extraction.text import TfidfVectorizer\n",
    "from sklearn.neural_network import MLPClassifier\n",
    "from sklearn.model_selection import GridSearchCV, train_test_split\n",
    "from sklearn.pipeline import Pipeline\n",
    "from sklearn.metrics import accuracy_score, mean_squared_error, classification_report\n",
    "from sklearn.preprocessing import StandardScaler\n",
    "from sklearn import metrics\n",
    "\n",
    "\n",
    "\n",
    "#Tokenized & Lemmatized data\n",
    "data = pd.read_csv('../Trip Advisor Preprocessing/data_tokenized_Isak.csv')"
   ]
  },
  {
   "cell_type": "code",
   "execution_count": 47,
   "metadata": {},
   "outputs": [
    {
     "data": {
      "text/plain": [
       "ratings.overall\n",
       "aBad         1581\n",
       "bNeutral     1946\n",
       "cGood       19945\n",
       "dtype: int64"
      ]
     },
     "execution_count": 47,
     "metadata": {},
     "output_type": "execute_result"
    }
   ],
   "source": [
    "data['ratings.overall'] = data['ratings.overall'].replace(range(0, 3), 'aBad')\n",
    "data['ratings.overall'] = data['ratings.overall'].replace(3, 'bNeutral')\n",
    "data['ratings.overall'] = data['ratings.overall'].replace(range(4, 6), 'cGood')\n",
    "\n",
    "result = data.groupby('ratings.overall').size()\n",
    "\n",
    "result"
   ]
  },
  {
   "cell_type": "code",
   "execution_count": 48,
   "metadata": {},
   "outputs": [],
   "source": [
    "# Extract preprocessed data and labels\n",
    "preprocessed_data = data['text'].tolist()\n",
    "labels = data['ratings.overall'].tolist()\n"
   ]
  },
  {
   "cell_type": "code",
   "execution_count": 49,
   "metadata": {},
   "outputs": [],
   "source": [
    "X_train, X_rem, y_train, y_rem = train_test_split(preprocessed_data,labels,train_size=0.75,stratify=labels,random_state=42) #75% train data\n",
    "X_valid, X_test, y_valid, y_test = train_test_split(X_rem,y_rem, test_size=0.5) #12.5% in test and 12.5% in validation"
   ]
  },
  {
   "cell_type": "code",
   "execution_count": 50,
   "metadata": {},
   "outputs": [],
   "source": [
    "# Define pipeline\n",
    "pipeline = Pipeline([\n",
    "    ('tfidf', TfidfVectorizer()),\n",
    "    ('scaler', StandardScaler(with_mean=False)),  # Set with_mean=False for sparse matrices\n",
    "    ('mlp', MLPClassifier()),\n",
    "    \n",
    "])"
   ]
  },
  {
   "cell_type": "code",
   "execution_count": 51,
   "metadata": {},
   "outputs": [],
   "source": [
    "# Define parameters for grid search\n",
    "parameters = {\n",
    "    'mlp__activation': ['relu', 'tanh'],\n",
    "    'mlp__alpha': [0.0001, 0.001, 0.01],\n",
    "        'mlp__hidden_layer_sizes': [(50,), (100,), (200,), (300,)]\n",
    "}"
   ]
  },
  {
   "cell_type": "code",
   "execution_count": 52,
   "metadata": {},
   "outputs": [
    {
     "data": {
      "text/plain": [
       "GridSearchCV(cv=5,\n",
       "             estimator=Pipeline(steps=[('tfidf', TfidfVectorizer()),\n",
       "                                       ('scaler',\n",
       "                                        StandardScaler(with_mean=False)),\n",
       "                                       ('mlp', MLPClassifier())]),\n",
       "             n_jobs=-1,\n",
       "             param_grid={'mlp__activation': ['relu', 'tanh'],\n",
       "                         'mlp__alpha': [0.0001, 0.001, 0.01],\n",
       "                         'mlp__hidden_layer_sizes': [(50,), (100,), (200,),\n",
       "                                                     (300,)]},\n",
       "             scoring='f1_weighted')"
      ]
     },
     "execution_count": 52,
     "metadata": {},
     "output_type": "execute_result"
    }
   ],
   "source": [
    "# Create grid search object\n",
    "grid_search = GridSearchCV(pipeline, parameters, scoring='f1_weighted', cv=5, n_jobs=-1)\n",
    "\n",
    "# Fit the grid search to the training data\n",
    "grid_search.fit(X_train, y_train)"
   ]
  },
  {
   "cell_type": "code",
   "execution_count": 53,
   "metadata": {},
   "outputs": [
    {
     "name": "stdout",
     "output_type": "stream",
     "text": [
      "              precision    recall  f1-score   support\n",
      "\n",
      "    Negative       0.64      0.53      0.58       199\n",
      "     Netural       0.25      0.22      0.23       241\n",
      "    Positive       0.91      0.94      0.93      2494\n",
      "\n",
      "    accuracy                           0.85      2934\n",
      "   macro avg       0.60      0.56      0.58      2934\n",
      "weighted avg       0.84      0.85      0.85      2934\n",
      "\n"
     ]
    }
   ],
   "source": [
    "# Evaluate the best model on the val data\n",
    "best_model = grid_search.best_estimator_\n",
    "y_pred_val = best_model.predict(X_valid)\n",
    "\n",
    "#target_names = ['Rating 1', 'Rating 2', 'Rating 3', 'Rating 4', 'Rating 5']\n",
    "target_names = ['Negative', 'Netural', 'Positive']\n",
    "print(classification_report(y_valid, y_pred_val, target_names=target_names))"
   ]
  },
  {
   "cell_type": "code",
   "execution_count": 54,
   "metadata": {},
   "outputs": [
    {
     "name": "stdout",
     "output_type": "stream",
     "text": [
      "              precision    recall  f1-score   support\n",
      "\n",
      "    Negative       0.64      0.53      0.58       199\n",
      "     Netural       0.25      0.22      0.23       241\n",
      "    Positive       0.91      0.94      0.93      2494\n",
      "\n",
      "    accuracy                           0.85      2934\n",
      "   macro avg       0.60      0.56      0.58      2934\n",
      "weighted avg       0.84      0.85      0.85      2934\n",
      "\n"
     ]
    }
   ],
   "source": [
    "# Evaluate the best model on the val data\n",
    "best_model = grid_search.best_estimator_\n",
    "y_pred_val = best_model.predict(X_valid)\n",
    "\n",
    "\n",
    "print(classification_report(y_valid, y_pred_val, target_names=target_names))"
   ]
  },
  {
   "cell_type": "code",
   "execution_count": 55,
   "metadata": {},
   "outputs": [
    {
     "name": "stdout",
     "output_type": "stream",
     "text": [
      "{'mlp__activation': 'relu', 'mlp__alpha': 0.01, 'mlp__hidden_layer_sizes': (300,)}\n"
     ]
    }
   ],
   "source": [
    "print(grid_search.best_params_)"
   ]
  },
  {
   "cell_type": "code",
   "execution_count": 56,
   "metadata": {},
   "outputs": [
    {
     "name": "stdout",
     "output_type": "stream",
     "text": [
      "Best model used:  Pipeline(steps=[('tfidf', TfidfVectorizer()),\n",
      "                ('scaler', StandardScaler(with_mean=False)),\n",
      "                ('mlp', MLPClassifier(alpha=0.01, hidden_layer_sizes=(300,)))])\n",
      "Training Accuracy: 0.9994887525562373\n",
      "Test Accuracy: 0.854464894342195\n",
      "              precision    recall  f1-score   support\n",
      "\n",
      "    Negative       0.60      0.51      0.55       196\n",
      "     Netural       0.27      0.22      0.24       246\n",
      "    Positive       0.92      0.94      0.93      2492\n",
      "\n",
      "    accuracy                           0.85      2934\n",
      "   macro avg       0.59      0.56      0.57      2934\n",
      "weighted avg       0.84      0.85      0.85      2934\n",
      "\n"
     ]
    }
   ],
   "source": [
    "#FINAL SCORING ON TEST DATA\n",
    "\n",
    "# Evaluate the best model on the val data\n",
    "best_model = grid_search.best_estimator_\n",
    "y_pred_test = best_model.predict(X_test)\n",
    "\n",
    "print(\"Best model used: \", best_model)\n",
    "\n",
    "# Train accuracy\n",
    "y_pred_train = best_model.predict(X_train)\n",
    "train_accuracy = accuracy_score(y_train, y_pred_train)\n",
    "print(\"Training Accuracy:\", train_accuracy)\n",
    "\n",
    "# Test accuracy\n",
    "y_pred_test = best_model.predict(X_test)\n",
    "test_accuracy = accuracy_score(y_test, y_pred_test)\n",
    "print(\"Test Accuracy:\", test_accuracy)\n",
    "\n",
    "print(classification_report(y_test, y_pred_test, target_names=target_names))"
   ]
  },
  {
   "attachments": {},
   "cell_type": "markdown",
   "metadata": {},
   "source": [
    "# Manual Tuning for Hidden Layers"
   ]
  },
  {
   "cell_type": "code",
   "execution_count": 57,
   "metadata": {},
   "outputs": [],
   "source": [
    "from sklearn.feature_extraction.text import CountVectorizer\n",
    "\n",
    "# Count vectorize the text data\n",
    "count_vectorizer = CountVectorizer()\n",
    "text_vectorized = count_vectorizer.fit_transform(data['text'])"
   ]
  },
  {
   "cell_type": "code",
   "execution_count": 58,
   "metadata": {},
   "outputs": [],
   "source": [
    "# Split the count vectorized data into train and test sets\n",
    "X_train, X_test, y_train, y_test = train_test_split(text_vectorized, data['ratings.overall'], train_size=0.75, stratify=data['ratings.overall'])"
   ]
  },
  {
   "cell_type": "code",
   "execution_count": 59,
   "metadata": {},
   "outputs": [
    {
     "name": "stdout",
     "output_type": "stream",
     "text": [
      "Hidden layer sizes=(10, 10), Train accuracy=0.9997727789138832\n",
      "Hidden layer sizes=(10, 10), Test accuracy=0.8505453306066802\n",
      "\n",
      "Hidden layer sizes=(10, 60), Train accuracy=0.9991479209270621\n",
      "Hidden layer sizes=(10, 60), Test accuracy=0.8563394683026585\n",
      "\n",
      "Hidden layer sizes=(10, 110), Train accuracy=0.9999431947284708\n",
      "Hidden layer sizes=(10, 110), Test accuracy=0.8602590320381731\n",
      "\n",
      "Hidden layer sizes=(10, 160), Train accuracy=0.9996591683708248\n",
      "Hidden layer sizes=(10, 160), Test accuracy=0.8573619631901841\n",
      "\n",
      "Hidden layer sizes=(60, 10), Train accuracy=0.9999431947284708\n",
      "Hidden layer sizes=(60, 10), Test accuracy=0.8698023176550784\n",
      "\n",
      "Hidden layer sizes=(60, 60), Train accuracy=0.9999431947284708\n",
      "Hidden layer sizes=(60, 60), Test accuracy=0.878323108384458\n",
      "\n",
      "Hidden layer sizes=(60, 110), Train accuracy=0.9999431947284708\n",
      "Hidden layer sizes=(60, 110), Test accuracy=0.8740627130197682\n",
      "\n",
      "Hidden layer sizes=(60, 160), Train accuracy=0.9998863894569416\n",
      "Hidden layer sizes=(60, 160), Test accuracy=0.8847989093387867\n",
      "\n",
      "Hidden layer sizes=(110, 10), Train accuracy=0.9999431947284708\n",
      "Hidden layer sizes=(110, 10), Test accuracy=0.8815610088616224\n",
      "\n",
      "Hidden layer sizes=(110, 60), Train accuracy=0.9999431947284708\n",
      "Hidden layer sizes=(110, 60), Test accuracy=0.8822426721199728\n",
      "\n",
      "Hidden layer sizes=(110, 110), Train accuracy=0.9999431947284708\n",
      "Hidden layer sizes=(110, 110), Test accuracy=0.8822426721199728\n",
      "\n",
      "Hidden layer sizes=(110, 160), Train accuracy=0.9999431947284708\n",
      "Hidden layer sizes=(110, 160), Test accuracy=0.8805385139740968\n",
      "\n",
      "Hidden layer sizes=(160, 10), Train accuracy=0.9999431947284708\n",
      "Hidden layer sizes=(160, 10), Test accuracy=0.8820722563053851\n",
      "\n",
      "Hidden layer sizes=(160, 60), Train accuracy=0.9999431947284708\n",
      "Hidden layer sizes=(160, 60), Test accuracy=0.885480572597137\n",
      "\n",
      "Hidden layer sizes=(160, 110), Train accuracy=0.9999431947284708\n",
      "Hidden layer sizes=(160, 110), Test accuracy=0.8841172460804363\n",
      "\n",
      "Hidden layer sizes=(160, 160), Train accuracy=0.9999431947284708\n",
      "Hidden layer sizes=(160, 160), Test accuracy=0.8822426721199728\n",
      "\n"
     ]
    }
   ],
   "source": [
    "#Nested For-loop from Lab 2.\n",
    "for h1 in range(10, 210, 50):\n",
    "    for h2 in range(10, 210, 50):\n",
    "        mlp_clf = MLPClassifier(hidden_layer_sizes=(h1, h2), max_iter=1000).fit(X_train, y_train)\n",
    "        print(f\"Hidden layer sizes={h1, h2}, Train accuracy={metrics.accuracy_score(y_train, mlp_clf.predict(X_train))}\")\n",
    "        print(f\"Hidden layer sizes={h1, h2}, Test accuracy={metrics.accuracy_score(y_test, mlp_clf.predict(X_test))}\\n\")"
   ]
  },
  {
   "attachments": {},
   "cell_type": "markdown",
   "metadata": {},
   "source": []
  }
 ],
 "metadata": {
  "kernelspec": {
   "display_name": "base",
   "language": "python",
   "name": "python3"
  },
  "language_info": {
   "codemirror_mode": {
    "name": "ipython",
    "version": 3
   },
   "file_extension": ".py",
   "mimetype": "text/x-python",
   "name": "python",
   "nbconvert_exporter": "python",
   "pygments_lexer": "ipython3",
   "version": "3.9.12"
  },
  "orig_nbformat": 4
 },
 "nbformat": 4,
 "nbformat_minor": 2
}
